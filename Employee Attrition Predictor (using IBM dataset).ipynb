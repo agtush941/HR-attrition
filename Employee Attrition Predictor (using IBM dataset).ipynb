{
 "cells": [
  {
   "cell_type": "code",
   "execution_count": 88,
   "metadata": {},
   "outputs": [],
   "source": [
    "import pandas as pd\n",
    "import numpy as np\n",
    "import matplotlib.pyplot as plt\n",
    "from sklearn.model_selection import StratifiedKFold\n",
    "from sklearn.compose import make_column_transformer\n",
    "from sklearn.ensemble import RandomForestClassifier\n",
    "from sklearn.model_selection import GridSearchCV,RandomizedSearchCV\n",
    "from sklearn.svm import  SVC\n",
    "from sklearn.decomposition import PCA\n",
    "from sklearn.model_selection import cross_val_score\n",
    "from sklearn.preprocessing import StandardScaler,RobustScaler\n",
    "from sklearn.preprocessing import OneHotEncoder,LabelEncoder\n",
    "from sklearn.pipeline import make_pipeline\n",
    "pd.set_option('display.max_columns', 10)\n",
    "pd.set_option('display.max_rows', 1000)"
   ]
  },
  {
   "cell_type": "code",
   "execution_count": 89,
   "metadata": {},
   "outputs": [
    {
     "data": {
      "text/html": [
       "<div>\n",
       "<style scoped>\n",
       "    .dataframe tbody tr th:only-of-type {\n",
       "        vertical-align: middle;\n",
       "    }\n",
       "\n",
       "    .dataframe tbody tr th {\n",
       "        vertical-align: top;\n",
       "    }\n",
       "\n",
       "    .dataframe thead th {\n",
       "        text-align: right;\n",
       "    }\n",
       "</style>\n",
       "<table border=\"1\" class=\"dataframe\">\n",
       "  <thead>\n",
       "    <tr style=\"text-align: right;\">\n",
       "      <th></th>\n",
       "      <th>Id</th>\n",
       "      <th>Age</th>\n",
       "      <th>Attrition</th>\n",
       "      <th>BusinessTravel</th>\n",
       "      <th>Department</th>\n",
       "      <th>...</th>\n",
       "      <th>YearsInCurrentRole</th>\n",
       "      <th>YearsSinceLastPromotion</th>\n",
       "      <th>YearsWithCurrManager</th>\n",
       "      <th>CommunicationSkill</th>\n",
       "      <th>Behaviour</th>\n",
       "    </tr>\n",
       "  </thead>\n",
       "  <tbody>\n",
       "    <tr>\n",
       "      <th>0</th>\n",
       "      <td>1</td>\n",
       "      <td>30</td>\n",
       "      <td>0</td>\n",
       "      <td>Non-Travel</td>\n",
       "      <td>Research &amp; Development</td>\n",
       "      <td>...</td>\n",
       "      <td>7</td>\n",
       "      <td>6</td>\n",
       "      <td>7</td>\n",
       "      <td>4</td>\n",
       "      <td>1</td>\n",
       "    </tr>\n",
       "    <tr>\n",
       "      <th>1</th>\n",
       "      <td>2</td>\n",
       "      <td>36</td>\n",
       "      <td>0</td>\n",
       "      <td>Travel_Rarely</td>\n",
       "      <td>Research &amp; Development</td>\n",
       "      <td>...</td>\n",
       "      <td>2</td>\n",
       "      <td>1</td>\n",
       "      <td>1</td>\n",
       "      <td>2</td>\n",
       "      <td>1</td>\n",
       "    </tr>\n",
       "    <tr>\n",
       "      <th>2</th>\n",
       "      <td>3</td>\n",
       "      <td>55</td>\n",
       "      <td>1</td>\n",
       "      <td>Travel_Rarely</td>\n",
       "      <td>Sales</td>\n",
       "      <td>...</td>\n",
       "      <td>7</td>\n",
       "      <td>7</td>\n",
       "      <td>3</td>\n",
       "      <td>5</td>\n",
       "      <td>1</td>\n",
       "    </tr>\n",
       "    <tr>\n",
       "      <th>3</th>\n",
       "      <td>4</td>\n",
       "      <td>39</td>\n",
       "      <td>0</td>\n",
       "      <td>Travel_Rarely</td>\n",
       "      <td>Research &amp; Development</td>\n",
       "      <td>...</td>\n",
       "      <td>7</td>\n",
       "      <td>1</td>\n",
       "      <td>7</td>\n",
       "      <td>4</td>\n",
       "      <td>1</td>\n",
       "    </tr>\n",
       "    <tr>\n",
       "      <th>4</th>\n",
       "      <td>5</td>\n",
       "      <td>37</td>\n",
       "      <td>0</td>\n",
       "      <td>Travel_Rarely</td>\n",
       "      <td>Research &amp; Development</td>\n",
       "      <td>...</td>\n",
       "      <td>7</td>\n",
       "      <td>7</td>\n",
       "      <td>8</td>\n",
       "      <td>1</td>\n",
       "      <td>1</td>\n",
       "    </tr>\n",
       "    <tr>\n",
       "      <th>5</th>\n",
       "      <td>6</td>\n",
       "      <td>31</td>\n",
       "      <td>0</td>\n",
       "      <td>Travel_Rarely</td>\n",
       "      <td>Sales</td>\n",
       "      <td>...</td>\n",
       "      <td>7</td>\n",
       "      <td>5</td>\n",
       "      <td>2</td>\n",
       "      <td>2</td>\n",
       "      <td>1</td>\n",
       "    </tr>\n",
       "    <tr>\n",
       "      <th>6</th>\n",
       "      <td>7</td>\n",
       "      <td>32</td>\n",
       "      <td>1</td>\n",
       "      <td>Travel_Rarely</td>\n",
       "      <td>Research &amp; Development</td>\n",
       "      <td>...</td>\n",
       "      <td>2</td>\n",
       "      <td>1</td>\n",
       "      <td>2</td>\n",
       "      <td>1</td>\n",
       "      <td>1</td>\n",
       "    </tr>\n",
       "    <tr>\n",
       "      <th>7</th>\n",
       "      <td>8</td>\n",
       "      <td>33</td>\n",
       "      <td>0</td>\n",
       "      <td>Travel_Rarely</td>\n",
       "      <td>Research &amp; Development</td>\n",
       "      <td>...</td>\n",
       "      <td>4</td>\n",
       "      <td>0</td>\n",
       "      <td>2</td>\n",
       "      <td>5</td>\n",
       "      <td>1</td>\n",
       "    </tr>\n",
       "    <tr>\n",
       "      <th>8</th>\n",
       "      <td>9</td>\n",
       "      <td>35</td>\n",
       "      <td>0</td>\n",
       "      <td>Travel_Frequently</td>\n",
       "      <td>Sales</td>\n",
       "      <td>...</td>\n",
       "      <td>2</td>\n",
       "      <td>0</td>\n",
       "      <td>2</td>\n",
       "      <td>4</td>\n",
       "      <td>1</td>\n",
       "    </tr>\n",
       "    <tr>\n",
       "      <th>9</th>\n",
       "      <td>10</td>\n",
       "      <td>21</td>\n",
       "      <td>1</td>\n",
       "      <td>Travel_Rarely</td>\n",
       "      <td>Sales</td>\n",
       "      <td>...</td>\n",
       "      <td>0</td>\n",
       "      <td>1</td>\n",
       "      <td>0</td>\n",
       "      <td>5</td>\n",
       "      <td>1</td>\n",
       "    </tr>\n",
       "  </tbody>\n",
       "</table>\n",
       "<p>10 rows × 29 columns</p>\n",
       "</div>"
      ],
      "text/plain": [
       "   Id  Age  Attrition     BusinessTravel              Department  ...  \\\n",
       "0   1   30          0         Non-Travel  Research & Development  ...   \n",
       "1   2   36          0      Travel_Rarely  Research & Development  ...   \n",
       "2   3   55          1      Travel_Rarely                   Sales  ...   \n",
       "3   4   39          0      Travel_Rarely  Research & Development  ...   \n",
       "4   5   37          0      Travel_Rarely  Research & Development  ...   \n",
       "5   6   31          0      Travel_Rarely                   Sales  ...   \n",
       "6   7   32          1      Travel_Rarely  Research & Development  ...   \n",
       "7   8   33          0      Travel_Rarely  Research & Development  ...   \n",
       "8   9   35          0  Travel_Frequently                   Sales  ...   \n",
       "9  10   21          1      Travel_Rarely                   Sales  ...   \n",
       "\n",
       "   YearsInCurrentRole  YearsSinceLastPromotion YearsWithCurrManager  \\\n",
       "0                   7                        6                    7   \n",
       "1                   2                        1                    1   \n",
       "2                   7                        7                    3   \n",
       "3                   7                        1                    7   \n",
       "4                   7                        7                    8   \n",
       "5                   7                        5                    2   \n",
       "6                   2                        1                    2   \n",
       "7                   4                        0                    2   \n",
       "8                   2                        0                    2   \n",
       "9                   0                        1                    0   \n",
       "\n",
       "   CommunicationSkill  Behaviour  \n",
       "0                   4          1  \n",
       "1                   2          1  \n",
       "2                   5          1  \n",
       "3                   4          1  \n",
       "4                   1          1  \n",
       "5                   2          1  \n",
       "6                   1          1  \n",
       "7                   5          1  \n",
       "8                   4          1  \n",
       "9                   5          1  \n",
       "\n",
       "[10 rows x 29 columns]"
      ]
     },
     "execution_count": 89,
     "metadata": {},
     "output_type": "execute_result"
    }
   ],
   "source": [
    "training = pd.read_csv('train.csv')\n",
    "train_data = training.copy()\n",
    "test_data = pd.read_csv('test.csv')\n",
    "train_data.head(10)"
   ]
  },
  {
   "cell_type": "code",
   "execution_count": 90,
   "metadata": {},
   "outputs": [
    {
     "name": "stdout",
     "output_type": "stream",
     "text": [
      "<class 'pandas.core.frame.DataFrame'>\n",
      "RangeIndex: 1628 entries, 0 to 1627\n",
      "Data columns (total 29 columns):\n",
      " #   Column                   Non-Null Count  Dtype \n",
      "---  ------                   --------------  ----- \n",
      " 0   Id                       1628 non-null   int64 \n",
      " 1   Age                      1628 non-null   int64 \n",
      " 2   Attrition                1628 non-null   int64 \n",
      " 3   BusinessTravel           1628 non-null   object\n",
      " 4   Department               1628 non-null   object\n",
      " 5   DistanceFromHome         1628 non-null   int64 \n",
      " 6   Education                1628 non-null   int64 \n",
      " 7   EducationField           1628 non-null   object\n",
      " 8   EmployeeNumber           1628 non-null   int64 \n",
      " 9   EnvironmentSatisfaction  1628 non-null   int64 \n",
      " 10  Gender                   1628 non-null   object\n",
      " 11  JobInvolvement           1628 non-null   int64 \n",
      " 12  JobRole                  1628 non-null   object\n",
      " 13  JobSatisfaction          1628 non-null   int64 \n",
      " 14  MaritalStatus            1628 non-null   object\n",
      " 15  MonthlyIncome            1628 non-null   int64 \n",
      " 16  NumCompaniesWorked       1628 non-null   int64 \n",
      " 17  OverTime                 1628 non-null   object\n",
      " 18  PercentSalaryHike        1628 non-null   int64 \n",
      " 19  PerformanceRating        1628 non-null   int64 \n",
      " 20  StockOptionLevel         1628 non-null   int64 \n",
      " 21  TotalWorkingYears        1628 non-null   int64 \n",
      " 22  TrainingTimesLastYear    1628 non-null   int64 \n",
      " 23  YearsAtCompany           1628 non-null   int64 \n",
      " 24  YearsInCurrentRole       1628 non-null   int64 \n",
      " 25  YearsSinceLastPromotion  1628 non-null   int64 \n",
      " 26  YearsWithCurrManager     1628 non-null   int64 \n",
      " 27  CommunicationSkill       1628 non-null   int64 \n",
      " 28  Behaviour                1628 non-null   int64 \n",
      "dtypes: int64(22), object(7)\n",
      "memory usage: 369.0+ KB\n"
     ]
    }
   ],
   "source": [
    "train_data.info()"
   ]
  },
  {
   "cell_type": "code",
   "execution_count": 91,
   "metadata": {},
   "outputs": [
    {
     "name": "stdout",
     "output_type": "stream",
     "text": [
      "                 Id          Age    Attrition BusinessTravel  \\\n",
      "count   1628.000000  1628.000000  1628.000000           1628   \n",
      "unique          NaN          NaN          NaN              3   \n",
      "top             NaN          NaN          NaN  Travel_Rarely   \n",
      "freq            NaN          NaN          NaN           1105   \n",
      "mean     814.500000    35.645577     0.482187            NaN   \n",
      "std      470.107435     9.481794     0.499836            NaN   \n",
      "min        1.000000    18.000000     0.000000            NaN   \n",
      "25%      407.750000    29.000000     0.000000            NaN   \n",
      "50%      814.500000    34.000000     0.000000            NaN   \n",
      "75%     1221.250000    42.000000     1.000000            NaN   \n",
      "max     1628.000000    60.000000     1.000000            NaN   \n",
      "\n",
      "                    Department  ...  YearsInCurrentRole  \\\n",
      "count                     1628  ...         1628.000000   \n",
      "unique                       3  ...                 NaN   \n",
      "top     Research & Development  ...                 NaN   \n",
      "freq                       979  ...                 NaN   \n",
      "mean                       NaN  ...            3.614865   \n",
      "std                        NaN  ...            3.481051   \n",
      "min                        NaN  ...            0.000000   \n",
      "25%                        NaN  ...            1.000000   \n",
      "50%                        NaN  ...            2.000000   \n",
      "75%                        NaN  ...            7.000000   \n",
      "max                        NaN  ...           18.000000   \n",
      "\n",
      "        YearsSinceLastPromotion YearsWithCurrManager  CommunicationSkill  \\\n",
      "count               1628.000000          1628.000000         1628.000000   \n",
      "unique                      NaN                  NaN                 NaN   \n",
      "top                         NaN                  NaN                 NaN   \n",
      "freq                        NaN                  NaN                 NaN   \n",
      "mean                   2.049140             3.551597            3.135749   \n",
      "std                    3.138287             3.494369            1.408770   \n",
      "min                    0.000000             0.000000            1.000000   \n",
      "25%                    0.000000             0.000000            2.000000   \n",
      "50%                    1.000000             2.000000            3.000000   \n",
      "75%                    2.000000             7.000000            4.000000   \n",
      "max                   15.000000            17.000000            5.000000   \n",
      "\n",
      "        Behaviour  \n",
      "count      1628.0  \n",
      "unique        NaN  \n",
      "top           NaN  \n",
      "freq          NaN  \n",
      "mean          1.0  \n",
      "std           0.0  \n",
      "min           1.0  \n",
      "25%           1.0  \n",
      "50%           1.0  \n",
      "75%           1.0  \n",
      "max           1.0  \n",
      "\n",
      "[11 rows x 29 columns]\n"
     ]
    }
   ],
   "source": [
    "print(train_data.describe(include= \"all\"))"
   ]
  },
  {
   "cell_type": "code",
   "execution_count": 92,
   "metadata": {},
   "outputs": [],
   "source": [
    "train_id = train_data.Id\n",
    "train_data = train_data.drop(['Behaviour','Id'],axis = 1)\n",
    "\n",
    "test_id = test_data.Id\n",
    "test_data = test_data.drop(['Behaviour','Id'],axis = 1)"
   ]
  },
  {
   "cell_type": "code",
   "execution_count": 93,
   "metadata": {},
   "outputs": [],
   "source": [
    "train_data['PerformanceRating'] = train_data['PerformanceRating'].apply(lambda x: 0 if x == 3 else 1)\n",
    "test_data['PerformanceRating'] = test_data['PerformanceRating'].apply(lambda x: 0 if x == 3 else 1)"
   ]
  },
  {
   "cell_type": "code",
   "execution_count": 94,
   "metadata": {},
   "outputs": [
    {
     "data": {
      "text/plain": [
       "<AxesSubplot:>"
      ]
     },
     "execution_count": 94,
     "metadata": {},
     "output_type": "execute_result"
    },
    {
     "data": {
      "image/png": "[encoded data removed]",
      "text/plain": [
       "<Figure size 432x288 with 1 Axes>"
      ]
     },
     "metadata": {
      "needs_background": "light"
     },
     "output_type": "display_data"
    }
   ],
   "source": [
    "train_data['Attrition'].value_counts().plot(kind = 'bar')\n"
   ]
  },
  {
   "cell_type": "code",
   "execution_count": 95,
   "metadata": {},
   "outputs": [
    {
     "name": "stdout",
     "output_type": "stream",
     "text": [
      "Number of duplicates:  628\n"
     ]
    }
   ],
   "source": [
    "print('Number of duplicates: ',train_data.duplicated().sum())"
   ]
  },
  {
   "cell_type": "code",
   "execution_count": 96,
   "metadata": {},
   "outputs": [
    {
     "data": {
      "text/plain": [
       "<AxesSubplot:>"
      ]
     },
     "execution_count": 96,
     "metadata": {},
     "output_type": "execute_result"
    },
    {
     "data": {
      "image/png": "[encoded data removed]",
      "text/plain": [
       "<Figure size 432x288 with 1 Axes>"
      ]
     },
     "metadata": {
      "needs_background": "light"
     },
     "output_type": "display_data"
    }
   ],
   "source": [
    "train_data[train_data.duplicated()]['Attrition'].value_counts().plot(kind = 'bar')"
   ]
  },
  {
   "cell_type": "code",
   "execution_count": 97,
   "metadata": {},
   "outputs": [
    {
     "name": "stdout",
     "output_type": "stream",
     "text": [
      "New train set:  (1000, 27)\n"
     ]
    },
    {
     "data": {
      "image/png": "[encoded data removed]",
      "text/plain": [
       "<Figure size 432x288 with 1 Axes>"
      ]
     },
     "metadata": {
      "needs_background": "light"
     },
     "output_type": "display_data"
    }
   ],
   "source": [
    "train_unq = train_data.drop_duplicates()\n",
    "print('New train set: ',train_unq.shape)\n",
    "X = train_unq.drop('Attrition',axis = 1)\n",
    "y = train_unq['Attrition']\n",
    "y.value_counts().plot(kind = 'bar')\n",
    "plt.show()"
   ]
  },
  {
   "cell_type": "code",
   "execution_count": 70,
   "metadata": {},
   "outputs": [
    {
     "name": "stdout",
     "output_type": "stream",
     "text": [
      "0.7.0\n"
     ]
    }
   ],
   "source": [
    "# check version number\n",
    "import imblearn\n",
    "print(imblearn.__version__)"
   ]
  },
  {
   "cell_type": "code",
   "execution_count": null,
   "metadata": {},
   "outputs": [],
   "source": []
  },
  {
   "cell_type": "code",
   "execution_count": 98,
   "metadata": {},
   "outputs": [],
   "source": [
    "# Standard Scaling\n",
    "skf = StratifiedKFold(n_splits = 10,random_state=42,shuffle=True)\n",
    "\n",
    "categorical = [f for f in training.columns if training[f].dtype == object]\n",
    "numeric = [f for f in X.columns if f not in categorical+['Id','Attrition','Behaviour','PerformanceRating']]\n",
    "\n",
    "pre_pipe = make_column_transformer((OneHotEncoder(),categorical),(StandardScaler(),numeric))\n"
   ]
  },
  {
   "cell_type": "code",
   "execution_count": 99,
   "metadata": {},
   "outputs": [],
   "source": [
    "from imblearn.over_sampling import SMOTE\n",
    "from imblearn.under_sampling import RandomUnderSampler\n",
    "from imblearn.pipeline import Pipeline\n",
    "\n",
    "over = SMOTE(sampling_strategy=0.2)\n",
    "under = RandomUnderSampler(sampling_strategy=0.5)\n",
    "steps = [('p',pre_pipe),('o', over), ('u', under)]\n",
    "pipeline = Pipeline(steps=steps)\n",
    "X, y = pipeline.fit_resample(X, y)"
   ]
  },
  {
   "cell_type": "code",
   "execution_count": 100,
   "metadata": {},
   "outputs": [
    {
     "name": "stdout",
     "output_type": "stream",
     "text": [
      "RF:  0.8150297853098459\n",
      "SVC: 0.8167774195239593\n"
     ]
    }
   ],
   "source": [
    "pipe_rf = make_pipeline(RandomForestClassifier())\n",
    "\n",
    "pipe_svc = make_pipeline(SVC(probability=True))\n",
    "\n",
    "\n",
    "print('RF: ',np.mean(cross_val_score(X=X,y=y,cv=skf,estimator=pipe_rf,scoring='roc_auc')))\n",
    "\n",
    "print('SVC:',np.mean(cross_val_score(X=X,y=y,cv=skf,estimator=pipe_svc,scoring='roc_auc')))"
   ]
  },
  {
   "cell_type": "code",
   "execution_count": 79,
   "metadata": {},
   "outputs": [
    {
     "name": "stdout",
     "output_type": "stream",
     "text": [
      "SVC:  0.809829152249135\n"
     ]
    },
    {
     "data": {
      "image/png": "[encoded data removed]",
      "text/plain": [
       "<Figure size 720x576 with 1 Axes>"
      ]
     },
     "metadata": {
      "needs_background": "light"
     },
     "output_type": "display_data"
    }
   ],
   "source": [
    "n = 46\n",
    "pipe_svc = make_pipeline(PCA(n_components=n),SVC(probability=True,C = 1,kernel='rbf'))\n",
    "print('SVC: ',np.mean(cross_val_score(X=X,y=y,cv=skf,estimator=pipe_svc,scoring='roc_auc')))\n",
    "\n",
    "plt.figure(figsize=(10,8))\n",
    "pipe_svc.fit(X,y)\n",
    "plt.plot(range(1,n+1),pipe_svc.named_steps['pca'].explained_variance_ratio_.cumsum())\n",
    "plt.xticks(range(1,n+1,2))\n",
    "plt.title('Explained Variance')\n",
    "plt.grid()\n",
    "plt.show()"
   ]
  },
  {
   "cell_type": "code",
   "execution_count": 101,
   "metadata": {},
   "outputs": [
    {
     "name": "stdout",
     "output_type": "stream",
     "text": [
      "SVC:  0.8131353544091434\n"
     ]
    }
   ],
   "source": [
    "n = 29\n",
    "#pre_pipe = make_column_transformer((OneHotEncoder(),categorical),(StandardScaler(),numeric),remainder = 'passthrough')\n",
    "pipe_svc = make_pipeline(PCA(n_components=n),SVC(probability=True,C = 1,kernel='rbf'))\n",
    "print('SVC: ',np.mean(cross_val_score(X=X,y=y,cv=skf,estimator=pipe_svc,scoring='roc_auc')))"
   ]
  },
  {
   "cell_type": "code",
   "execution_count": 102,
   "metadata": {},
   "outputs": [
    {
     "name": "stdout",
     "output_type": "stream",
     "text": [
      "Fitting 10 folds for each of 28 candidates, totalling 280 fits\n"
     ]
    },
    {
     "name": "stderr",
     "output_type": "stream",
     "text": [
      "[Parallel(n_jobs=-1)]: Using backend LokyBackend with 8 concurrent workers.\n",
      "[Parallel(n_jobs=-1)]: Done  25 tasks      | elapsed:    3.0s\n",
      "[Parallel(n_jobs=-1)]: Done 236 tasks      | elapsed:    5.8s\n"
     ]
    },
    {
     "name": "stdout",
     "output_type": "stream",
     "text": [
      "Best score  0.832715017825312\n",
      "Best parameters  {'svc__C': 1, 'svc__class_weight': 'balanced', 'svc__gamma': 'auto'}\n"
     ]
    },
    {
     "name": "stderr",
     "output_type": "stream",
     "text": [
      "[Parallel(n_jobs=-1)]: Done 280 out of 280 | elapsed:    6.3s finished\n"
     ]
    }
   ],
   "source": [
    "n = 33\n",
    "#pre_pipe = make_column_transformer((OneHotEncoder(),categorical),(StandardScaler(),numeric),remainder = 'passthrough')\n",
    "pipe_svc = make_pipeline(PCA(n_components=n),SVC(probability=True,C = 1,kernel = 'rbf'))\n",
    "\n",
    "param_grid = {\n",
    "    \n",
    "    'svc__C':[0.001,0.01,0.1,1,10,100,1000],\n",
    "    'svc__gamma': ['auto','scale'],\n",
    "    'svc__class_weight': ['balanced',None]\n",
    "}    \n",
    "\n",
    "grid_search = GridSearchCV(pipe_svc,param_grid=param_grid,cv = skf, verbose=2, n_jobs = -1,scoring='roc_auc')\n",
    "grid_search.fit(X,y)\n",
    "print('Best score ',grid_search.best_score_)\n",
    "print('Best parameters ',grid_search.best_params_)\n",
    "best_svc = grid_search.best_estimator_"
   ]
  },
  {
   "cell_type": "code",
   "execution_count": 103,
   "metadata": {},
   "outputs": [
    {
     "name": "stdout",
     "output_type": "stream",
     "text": [
      "Fitting 10 folds for each of 11 candidates, totalling 110 fits\n"
     ]
    },
    {
     "name": "stderr",
     "output_type": "stream",
     "text": [
      "[Parallel(n_jobs=-1)]: Using backend LokyBackend with 8 concurrent workers.\n",
      "[Parallel(n_jobs=-1)]: Done  34 tasks      | elapsed:    0.3s\n"
     ]
    },
    {
     "name": "stdout",
     "output_type": "stream",
     "text": [
      "Best score  0.8234792780748664\n",
      "Best parameters  {'svc__C': 1}\n"
     ]
    },
    {
     "name": "stderr",
     "output_type": "stream",
     "text": [
      "[Parallel(n_jobs=-1)]: Done 110 out of 110 | elapsed:    0.9s finished\n"
     ]
    }
   ],
   "source": [
    "pipe_svc = make_pipeline(PCA(n_components=n),SVC(probability=True,C = 1,kernel='rbf',class_weight=None,gamma='auto'))\n",
    "param_grid={\n",
    "    'svc__C':[0.01,0.03,0.04,0.045,0.05,0.07,0.1,0.3,0.5,0.7,1]  \n",
    "}\n",
    "grid_search = GridSearchCV(pipe_svc,param_grid=param_grid,cv = skf, verbose=2, n_jobs = -1,scoring = 'roc_auc')\n",
    "grid_search.fit(X,y)\n",
    "print('Best score ',grid_search.best_score_)\n",
    "print('Best parameters ',grid_search.best_params_)\n",
    "best_svc = grid_search.best_estimator_"
   ]
  },
  {
   "cell_type": "code",
   "execution_count": 104,
   "metadata": {},
   "outputs": [],
   "source": [
    "best_svc.fit(X,y)\n",
    "steps2 = [('p',pre_pipe)]\n",
    "pipeline2 = Pipeline(steps=steps2)\n",
    "X1 = pipeline2.fit_transform(test_data)\n",
    "prediction = best_svc.predict_proba(X1)[:,1]\n",
    "submission = pd.DataFrame(prediction,columns=['Attrition'])\n",
    "submission['Id'] = test_id\n",
    "submission = submission[['Id','Attrition']]\n",
    "submission.to_csv('submissionfile_postcomp.csv',index = None)"
   ]
  },
  {
   "cell_type": "code",
   "execution_count": null,
   "metadata": {},
   "outputs": [],
   "source": []
  }
 ],
 "metadata": {
  "kernelspec": {
   "display_name": "Python 3",
   "language": "python",
   "name": "python3"
  },
  "language_info": {
   "codemirror_mode": {
    "name": "ipython",
    "version": 3
   },
   "file_extension": ".py",
   "mimetype": "text/x-python",
   "name": "python",
   "nbconvert_exporter": "python",
   "pygments_lexer": "ipython3",
   "version": "3.8.5"
  }
 },
 "nbformat": 4,
 "nbformat_minor": 4
}
